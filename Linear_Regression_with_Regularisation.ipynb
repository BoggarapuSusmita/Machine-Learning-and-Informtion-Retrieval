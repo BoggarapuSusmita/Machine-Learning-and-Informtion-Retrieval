{
 "cells": [
  {
   "cell_type": "code",
   "execution_count": 64,
   "metadata": {},
   "outputs": [
    {
     "data": {
      "text/html": [
       "<div>\n",
       "<style scoped>\n",
       "    .dataframe tbody tr th:only-of-type {\n",
       "        vertical-align: middle;\n",
       "    }\n",
       "\n",
       "    .dataframe tbody tr th {\n",
       "        vertical-align: top;\n",
       "    }\n",
       "\n",
       "    .dataframe thead th {\n",
       "        text-align: right;\n",
       "    }\n",
       "</style>\n",
       "<table border=\"1\" class=\"dataframe\">\n",
       "  <thead>\n",
       "    <tr style=\"text-align: right;\">\n",
       "      <th></th>\n",
       "      <th>YearsExperience</th>\n",
       "      <th>Salary</th>\n",
       "    </tr>\n",
       "  </thead>\n",
       "  <tbody>\n",
       "    <tr>\n",
       "      <th>0</th>\n",
       "      <td>1.1</td>\n",
       "      <td>39343</td>\n",
       "    </tr>\n",
       "    <tr>\n",
       "      <th>1</th>\n",
       "      <td>1.3</td>\n",
       "      <td>46205</td>\n",
       "    </tr>\n",
       "    <tr>\n",
       "      <th>2</th>\n",
       "      <td>1.5</td>\n",
       "      <td>37731</td>\n",
       "    </tr>\n",
       "    <tr>\n",
       "      <th>3</th>\n",
       "      <td>2.0</td>\n",
       "      <td>43525</td>\n",
       "    </tr>\n",
       "    <tr>\n",
       "      <th>4</th>\n",
       "      <td>2.2</td>\n",
       "      <td>39891</td>\n",
       "    </tr>\n",
       "  </tbody>\n",
       "</table>\n",
       "</div>"
      ],
      "text/plain": [
       "   YearsExperience  Salary\n",
       "0              1.1   39343\n",
       "1              1.3   46205\n",
       "2              1.5   37731\n",
       "3              2.0   43525\n",
       "4              2.2   39891"
      ]
     },
     "execution_count": 64,
     "metadata": {},
     "output_type": "execute_result"
    }
   ],
   "source": [
    "import pandas\n",
    "import numpy as np\n",
    "#df=pandas.read_csv(r\"/Users/Apple/Downloads/Housing.csv\")\n",
    "#X=df['area'].to_numpy(dtype=float)\n",
    "#y=df['price'].to_numpy(dtype=float)\n",
    "df=pandas.read_csv(r\"/Users/Apple/Downloads/salary.csv\")\n",
    "X = df.iloc[:,:-1].values\n",
    "y = df.iloc[:,1].values\n",
    "df.head()"
   ]
  },
  {
   "cell_type": "code",
   "execution_count": 65,
   "metadata": {},
   "outputs": [
    {
     "data": {
      "text/plain": [
       "((30, 1), (30,))"
      ]
     },
     "execution_count": 65,
     "metadata": {},
     "output_type": "execute_result"
    }
   ],
   "source": [
    "X.shape,y.shape"
   ]
  },
  {
   "cell_type": "code",
   "execution_count": 66,
   "metadata": {},
   "outputs": [
    {
     "data": {
      "text/plain": [
       "numpy.ndarray"
      ]
     },
     "execution_count": 66,
     "metadata": {},
     "output_type": "execute_result"
    }
   ],
   "source": [
    "type(X)"
   ]
  },
  {
   "cell_type": "code",
   "execution_count": 67,
   "metadata": {},
   "outputs": [],
   "source": [
    "#Normalizing X\n",
    "#diff=max(X)-min(X)\n",
    "#for i in range(len(X)):\n",
    "    #X[i]=(X[i]-min(X))/diff\n",
    "    #y[i]=y[i]/10000\n"
   ]
  },
  {
   "cell_type": "code",
   "execution_count": 68,
   "metadata": {},
   "outputs": [
    {
     "data": {
      "text/plain": [
       "(array([[1.1],\n",
       "        [1.3],\n",
       "        [1.5],\n",
       "        [2. ],\n",
       "        [2.2]]),\n",
       " array([[39343],\n",
       "        [46205],\n",
       "        [37731],\n",
       "        [43525],\n",
       "        [39891]]))"
      ]
     },
     "execution_count": 68,
     "metadata": {},
     "output_type": "execute_result"
    }
   ],
   "source": [
    "m=y.shape[0]\n",
    "y=y.reshape(y.shape[0],1)\n",
    "X[:5], y[:5]"
   ]
  },
  {
   "cell_type": "code",
   "execution_count": 69,
   "metadata": {},
   "outputs": [],
   "source": [
    "from sklearn.model_selection import train_test_split\n",
    "\n",
    "train_x, test_x, train_y, test_y = train_test_split(X, y, test_size = 0.25)"
   ]
  },
  {
   "cell_type": "code",
   "execution_count": 70,
   "metadata": {},
   "outputs": [
    {
     "data": {
      "text/plain": [
       "((30, 1), (30, 1), 30)"
      ]
     },
     "execution_count": 70,
     "metadata": {},
     "output_type": "execute_result"
    }
   ],
   "source": [
    "X.shape, y.shape, m"
   ]
  },
  {
   "cell_type": "code",
   "execution_count": 71,
   "metadata": {},
   "outputs": [
    {
     "data": {
      "image/png": "[encoded data removed]",
      "text/plain": [
       "<Figure size 432x288 with 1 Axes>"
      ]
     },
     "metadata": {
      "needs_background": "light"
     },
     "output_type": "display_data"
    }
   ],
   "source": [
    "import matplotlib.pyplot as plt\n",
    "plt.scatter(X, y)\n",
    "plt.xlabel(\"YEARS OF EXPERIENCE\")\n",
    "plt.ylabel(\"SALARY\")\n",
    "plt.show()"
   ]
  },
  {
   "cell_type": "code",
   "execution_count": 72,
   "metadata": {},
   "outputs": [],
   "source": [
    "class Linear_Regression:\n",
    "    \n",
    "    theta_0=0\n",
    "    theta_1=0\n",
    "    \n",
    "    def fit(self,X,y,epochs,alpha):\n",
    "        costs,avg_theta=[],[]\n",
    "        for j in range(epochs):\n",
    "            hypothesis=[]\n",
    "            sum1,sum2,loss=0,0,0\n",
    "            for i in range(len(X)):\n",
    "                hypothesis.append(self.theta_0+self.theta_1*X[i])\n",
    "                sum1+=hypothesis[i]-y[i]\n",
    "                sum2+=(hypothesis[i]-y[i])*X[i]\n",
    "                loss+=(hypothesis[i]-y[i])**2\n",
    "            \n",
    "            sum1=sum1/len(X)\n",
    "            sum2=sum2/len(X)\n",
    "            loss=loss/(2*len(X))\n",
    "            costs.append(loss)\n",
    "        \n",
    "            self.theta_0-=alpha*sum1\n",
    "            self.theta_1-=alpha*sum2\n",
    "            avg_theta.append((self.theta_1+self.theta_0)/2)\n",
    "        \n",
    "        return [self.theta_0, self.theta_1], costs, avg_theta\n",
    "    \n",
    "    def reg_fit(self,X,y,epochs,alpha,lembda):\n",
    "        costs,avg_theta=[],[]\n",
    "        for j in range(epochs):\n",
    "            hypothesis=[]\n",
    "            sum1,sum2,loss=0,0,0\n",
    "            for i in range(len(X)):\n",
    "                hypothesis.append(self.theta_0+self.theta_1*X[i])\n",
    "                sum1+=hypothesis[i]-y[i]\n",
    "                sum2+=(hypothesis[i]-y[i])*X[i]\n",
    "                loss+=(hypothesis[i]-y[i])**2 \n",
    "            \n",
    "            sum1=sum1/len(X)\n",
    "            sum2=sum2/len(X) + lembda*self.theta_1/len(X)\n",
    "            \n",
    "            loss+=lembda*(self.theta_0**2 + self.theta_1**2)\n",
    "            loss=loss/(2*len(X))\n",
    "            costs.append(loss)\n",
    "            \n",
    "            self.theta_0-=alpha*sum1\n",
    "            self.theta_1-=alpha*sum2\n",
    "            avg_theta.append((self.theta_1+self.theta_0)/2)\n",
    "        \n",
    "        return [self.theta_0, self.theta_1], costs, avg_theta\n",
    "    \n",
    "    def predict(self,X):\n",
    "        pred_y=[]\n",
    "        for i in X:\n",
    "            pred_y.append(self.theta_0 + self.theta_1 * i)\n",
    "        \n",
    "        return pred_y"
   ]
  },
  {
   "cell_type": "code",
   "execution_count": 73,
   "metadata": {},
   "outputs": [
    {
     "data": {
      "text/plain": [
       "[array([20719.22520757]), array([10208.18919072])]"
      ]
     },
     "execution_count": 73,
     "metadata": {},
     "output_type": "execute_result"
    }
   ],
   "source": [
    "model=Linear_Regression()\n",
    "theta,cost_fun1,avg_theta=model.fit(train_x,train_y,10000,alpha=0.001)\n",
    "theta"
   ]
  },
  {
   "cell_type": "code",
   "execution_count": 74,
   "metadata": {},
   "outputs": [
    {
     "data": {
      "text/html": [
       "<div>\n",
       "<style scoped>\n",
       "    .dataframe tbody tr th:only-of-type {\n",
       "        vertical-align: middle;\n",
       "    }\n",
       "\n",
       "    .dataframe tbody tr th {\n",
       "        vertical-align: top;\n",
       "    }\n",
       "\n",
       "    .dataframe thead th {\n",
       "        text-align: right;\n",
       "    }\n",
       "</style>\n",
       "<table border=\"1\" class=\"dataframe\">\n",
       "  <thead>\n",
       "    <tr style=\"text-align: right;\">\n",
       "      <th></th>\n",
       "      <th>Actual</th>\n",
       "      <th>predicted</th>\n",
       "    </tr>\n",
       "  </thead>\n",
       "  <tbody>\n",
       "    <tr>\n",
       "      <th>0</th>\n",
       "      <td>37731</td>\n",
       "      <td>[36031.508993643045]</td>\n",
       "    </tr>\n",
       "    <tr>\n",
       "      <th>1</th>\n",
       "      <td>121872</td>\n",
       "      <td>[127905.2117100916]</td>\n",
       "    </tr>\n",
       "    <tr>\n",
       "      <th>2</th>\n",
       "      <td>56642</td>\n",
       "      <td>[50322.97386064615]</td>\n",
       "    </tr>\n",
       "    <tr>\n",
       "      <th>3</th>\n",
       "      <td>63218</td>\n",
       "      <td>[60531.16305136266]</td>\n",
       "    </tr>\n",
       "    <tr>\n",
       "      <th>4</th>\n",
       "      <td>57081</td>\n",
       "      <td>[62572.80088950595]</td>\n",
       "    </tr>\n",
       "    <tr>\n",
       "      <th>5</th>\n",
       "      <td>83088</td>\n",
       "      <td>[74822.62791836576]</td>\n",
       "    </tr>\n",
       "    <tr>\n",
       "      <th>6</th>\n",
       "      <td>67938</td>\n",
       "      <td>[70739.35224207917]</td>\n",
       "    </tr>\n",
       "    <tr>\n",
       "      <th>7</th>\n",
       "      <td>46205</td>\n",
       "      <td>[33989.87115549974]</td>\n",
       "    </tr>\n",
       "  </tbody>\n",
       "</table>\n",
       "</div>"
      ],
      "text/plain": [
       "   Actual             predicted\n",
       "0   37731  [36031.508993643045]\n",
       "1  121872   [127905.2117100916]\n",
       "2   56642   [50322.97386064615]\n",
       "3   63218   [60531.16305136266]\n",
       "4   57081   [62572.80088950595]\n",
       "5   83088   [74822.62791836576]\n",
       "6   67938   [70739.35224207917]\n",
       "7   46205   [33989.87115549974]"
      ]
     },
     "execution_count": 74,
     "metadata": {},
     "output_type": "execute_result"
    }
   ],
   "source": [
    "pred_y=model.predict(test_x)\n",
    "dict={\"Actual\": test_y.flatten(), \"predicted\":pred_y}\n",
    "df1=pandas.DataFrame(dict)\n",
    "df1"
   ]
  },
  {
   "cell_type": "code",
   "execution_count": 75,
   "metadata": {},
   "outputs": [
    {
     "data": {
      "text/plain": [
       "4164.691072075615"
      ]
     },
     "execution_count": 75,
     "metadata": {},
     "output_type": "execute_result"
    }
   ],
   "source": [
    "import math\n",
    "math.sqrt(cost_fun1[-1])"
   ]
  },
  {
   "cell_type": "code",
   "execution_count": 76,
   "metadata": {},
   "outputs": [
    {
     "data": {
      "image/png": "[encoded data removed]",
      "text/plain": [
       "<Figure size 432x288 with 1 Axes>"
      ]
     },
     "metadata": {
      "needs_background": "light"
     },
     "output_type": "display_data"
    }
   ],
   "source": [
    "plt.scatter(X, y)\n",
    "plt.plot([min(test_x), max(test_x)], [min(pred_y), max(pred_y)], color='red')\n",
    "plt.xlabel(\"YEARS OF EXPERIENCE\")\n",
    "plt.ylabel(\"SALARY\")\n",
    "plt.show()"
   ]
  },
  {
   "cell_type": "code",
   "execution_count": 77,
   "metadata": {},
   "outputs": [
    {
     "data": {
      "image/png": "[encoded data removed]",
      "text/plain": [
       "<Figure size 432x288 with 1 Axes>"
      ]
     },
     "metadata": {
      "needs_background": "light"
     },
     "output_type": "display_data"
    }
   ],
   "source": [
    "plt.scatter(avg_theta,cost_fun1)\n",
    "plt.xlabel(\"THETA\")\n",
    "plt.ylabel(\"COST\")\n",
    "plt.show()"
   ]
  },
  {
   "cell_type": "code",
   "execution_count": 78,
   "metadata": {},
   "outputs": [],
   "source": [
    "reg_theta,cost_fun2,avg_theta=model.reg_fit(train_x,train_y,10000,alpha=0.001,lembda=1)"
   ]
  },
  {
   "cell_type": "code",
   "execution_count": 79,
   "metadata": {},
   "outputs": [
    {
     "data": {
      "text/plain": [
       "[array([24018.90893989]), array([9723.05386295])]"
      ]
     },
     "execution_count": 79,
     "metadata": {},
     "output_type": "execute_result"
    }
   ],
   "source": [
    "reg_theta"
   ]
  },
  {
   "cell_type": "code",
   "execution_count": 80,
   "metadata": {},
   "outputs": [
    {
     "data": {
      "text/html": [
       "<div>\n",
       "<style scoped>\n",
       "    .dataframe tbody tr th:only-of-type {\n",
       "        vertical-align: middle;\n",
       "    }\n",
       "\n",
       "    .dataframe tbody tr th {\n",
       "        vertical-align: top;\n",
       "    }\n",
       "\n",
       "    .dataframe thead th {\n",
       "        text-align: right;\n",
       "    }\n",
       "</style>\n",
       "<table border=\"1\" class=\"dataframe\">\n",
       "  <thead>\n",
       "    <tr style=\"text-align: right;\">\n",
       "      <th></th>\n",
       "      <th>Actual</th>\n",
       "      <th>predicted</th>\n",
       "    </tr>\n",
       "  </thead>\n",
       "  <tbody>\n",
       "    <tr>\n",
       "      <th>0</th>\n",
       "      <td>37731</td>\n",
       "      <td>[38603.4897343163]</td>\n",
       "    </tr>\n",
       "    <tr>\n",
       "      <th>1</th>\n",
       "      <td>121872</td>\n",
       "      <td>[126110.97450086522]</td>\n",
       "    </tr>\n",
       "    <tr>\n",
       "      <th>2</th>\n",
       "      <td>56642</td>\n",
       "      <td>[52215.76514244614]</td>\n",
       "    </tr>\n",
       "    <tr>\n",
       "      <th>3</th>\n",
       "      <td>63218</td>\n",
       "      <td>[61938.81900539601]</td>\n",
       "    </tr>\n",
       "    <tr>\n",
       "      <th>4</th>\n",
       "      <td>57081</td>\n",
       "      <td>[63883.42977798599]</td>\n",
       "    </tr>\n",
       "    <tr>\n",
       "      <th>5</th>\n",
       "      <td>83088</td>\n",
       "      <td>[75551.09441352585]</td>\n",
       "    </tr>\n",
       "    <tr>\n",
       "      <th>6</th>\n",
       "      <td>67938</td>\n",
       "      <td>[71661.8728683459]</td>\n",
       "    </tr>\n",
       "    <tr>\n",
       "      <th>7</th>\n",
       "      <td>46205</td>\n",
       "      <td>[36658.878961726325]</td>\n",
       "    </tr>\n",
       "  </tbody>\n",
       "</table>\n",
       "</div>"
      ],
      "text/plain": [
       "   Actual             predicted\n",
       "0   37731    [38603.4897343163]\n",
       "1  121872  [126110.97450086522]\n",
       "2   56642   [52215.76514244614]\n",
       "3   63218   [61938.81900539601]\n",
       "4   57081   [63883.42977798599]\n",
       "5   83088   [75551.09441352585]\n",
       "6   67938    [71661.8728683459]\n",
       "7   46205  [36658.878961726325]"
      ]
     },
     "execution_count": 80,
     "metadata": {},
     "output_type": "execute_result"
    }
   ],
   "source": [
    "pred_y=model.predict(test_x)\n",
    "dict={\"Actual\": test_y.flatten(), \"predicted\":pred_y}\n",
    "df1=pandas.DataFrame(dict)\n",
    "df1"
   ]
  },
  {
   "cell_type": "code",
   "execution_count": 81,
   "metadata": {},
   "outputs": [
    {
     "data": {
      "image/png": "[encoded data removed]",
      "text/plain": [
       "<Figure size 432x288 with 1 Axes>"
      ]
     },
     "metadata": {
      "needs_background": "light"
     },
     "output_type": "display_data"
    }
   ],
   "source": [
    "plt.scatter(X, y)\n",
    "plt.plot([min(test_x), max(test_x)], [min(pred_y), max(pred_y)], color='red')\n",
    "plt.xlabel(\"YEARS OF EXPERIENCE\")\n",
    "plt.ylabel(\"SALARY\")\n",
    "plt.show()"
   ]
  },
  {
   "cell_type": "code",
   "execution_count": 82,
   "metadata": {},
   "outputs": [
    {
     "data": {
      "text/plain": [
       "4018.889539507987"
      ]
     },
     "execution_count": 82,
     "metadata": {},
     "output_type": "execute_result"
    }
   ],
   "source": [
    "import math\n",
    "math.sqrt(cost_fun2[-1])"
   ]
  },
  {
   "cell_type": "code",
   "execution_count": null,
   "metadata": {},
   "outputs": [],
   "source": []
  }
 ],
 "metadata": {
  "kernelspec": {
   "display_name": "Python 3",
   "language": "python",
   "name": "python3"
  },
  "language_info": {
   "codemirror_mode": {
    "name": "ipython",
    "version": 3
   },
   "file_extension": ".py",
   "mimetype": "text/x-python",
   "name": "python",
   "nbconvert_exporter": "python",
   "pygments_lexer": "ipython3",
   "version": "3.8.5"
  }
 },
 "nbformat": 4,
 "nbformat_minor": 4
}
