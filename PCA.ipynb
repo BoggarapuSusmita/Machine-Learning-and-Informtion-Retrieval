{
 "cells": [
  {
   "cell_type": "code",
   "execution_count": 1,
   "metadata": {},
   "outputs": [
    {
     "data": {
      "text/html": [
       "<div>\n",
       "<style scoped>\n",
       "    .dataframe tbody tr th:only-of-type {\n",
       "        vertical-align: middle;\n",
       "    }\n",
       "\n",
       "    .dataframe tbody tr th {\n",
       "        vertical-align: top;\n",
       "    }\n",
       "\n",
       "    .dataframe thead th {\n",
       "        text-align: right;\n",
       "    }\n",
       "</style>\n",
       "<table border=\"1\" class=\"dataframe\">\n",
       "  <thead>\n",
       "    <tr style=\"text-align: right;\">\n",
       "      <th></th>\n",
       "      <th>A</th>\n",
       "      <th>B</th>\n",
       "      <th>C</th>\n",
       "    </tr>\n",
       "  </thead>\n",
       "  <tbody>\n",
       "    <tr>\n",
       "      <th>0</th>\n",
       "      <td>4.5192</td>\n",
       "      <td>2.6487</td>\n",
       "      <td>1.0</td>\n",
       "    </tr>\n",
       "    <tr>\n",
       "      <th>1</th>\n",
       "      <td>2.4443</td>\n",
       "      <td>1.5438</td>\n",
       "      <td>1.0</td>\n",
       "    </tr>\n",
       "    <tr>\n",
       "      <th>2</th>\n",
       "      <td>4.2409</td>\n",
       "      <td>1.8990</td>\n",
       "      <td>1.0</td>\n",
       "    </tr>\n",
       "    <tr>\n",
       "      <th>3</th>\n",
       "      <td>5.8097</td>\n",
       "      <td>2.4711</td>\n",
       "      <td>1.0</td>\n",
       "    </tr>\n",
       "    <tr>\n",
       "      <th>4</th>\n",
       "      <td>6.4423</td>\n",
       "      <td>3.3590</td>\n",
       "      <td>1.0</td>\n",
       "    </tr>\n",
       "    <tr>\n",
       "      <th>...</th>\n",
       "      <td>...</td>\n",
       "      <td>...</td>\n",
       "      <td>...</td>\n",
       "    </tr>\n",
       "    <tr>\n",
       "      <th>95</th>\n",
       "      <td>5.9868</td>\n",
       "      <td>7.3641</td>\n",
       "      <td>0.0</td>\n",
       "    </tr>\n",
       "    <tr>\n",
       "      <th>96</th>\n",
       "      <td>4.6711</td>\n",
       "      <td>6.2592</td>\n",
       "      <td>0.0</td>\n",
       "    </tr>\n",
       "    <tr>\n",
       "      <th>97</th>\n",
       "      <td>7.5810</td>\n",
       "      <td>8.3703</td>\n",
       "      <td>0.0</td>\n",
       "    </tr>\n",
       "    <tr>\n",
       "      <th>98</th>\n",
       "      <td>4.6457</td>\n",
       "      <td>8.5676</td>\n",
       "      <td>0.0</td>\n",
       "    </tr>\n",
       "    <tr>\n",
       "      <th>99</th>\n",
       "      <td>4.6457</td>\n",
       "      <td>8.1676</td>\n",
       "      <td>0.0</td>\n",
       "    </tr>\n",
       "  </tbody>\n",
       "</table>\n",
       "<p>100 rows × 3 columns</p>\n",
       "</div>"
      ],
      "text/plain": [
       "         A       B    C\n",
       "0   4.5192  2.6487  1.0\n",
       "1   2.4443  1.5438  1.0\n",
       "2   4.2409  1.8990  1.0\n",
       "3   5.8097  2.4711  1.0\n",
       "4   6.4423  3.3590  1.0\n",
       "..     ...     ...  ...\n",
       "95  5.9868  7.3641  0.0\n",
       "96  4.6711  6.2592  0.0\n",
       "97  7.5810  8.3703  0.0\n",
       "98  4.6457  8.5676  0.0\n",
       "99  4.6457  8.1676  0.0\n",
       "\n",
       "[100 rows x 3 columns]"
      ]
     },
     "execution_count": 1,
     "metadata": {},
     "output_type": "execute_result"
    }
   ],
   "source": [
    "import pandas as pd\n",
    "import numpy as np\n",
    "df=pd.read_csv(r'/Users/Apple/Downloads/logistic_reg.csv')\n",
    "df"
   ]
  },
  {
   "cell_type": "code",
   "execution_count": 2,
   "metadata": {},
   "outputs": [
    {
     "data": {
      "text/plain": [
       "(100, 2, (100, 1))"
      ]
     },
     "execution_count": 2,
     "metadata": {},
     "output_type": "execute_result"
    }
   ],
   "source": [
    "y=df['C'].to_numpy().reshape(100,1)\n",
    "m=df.shape[0]\n",
    "n=df.shape[1]-1\n",
    "m,n,y.shape"
   ]
  },
  {
   "cell_type": "code",
   "execution_count": 3,
   "metadata": {},
   "outputs": [],
   "source": [
    "#df=df.sample(frac=1)\n",
    "x1=df['A'].to_numpy()\n",
    "x2=df['B'].to_numpy()"
   ]
  },
  {
   "cell_type": "code",
   "execution_count": 4,
   "metadata": {},
   "outputs": [
    {
     "data": {
      "text/plain": [
       "(5.14423, 4.866669000000001)"
      ]
     },
     "execution_count": 4,
     "metadata": {},
     "output_type": "execute_result"
    }
   ],
   "source": [
    "#calculate mean of x1 and x2\n",
    "mean1=np.average(x1)\n",
    "mean2=np.average(x2)\n",
    "mean1,mean2"
   ]
  },
  {
   "cell_type": "code",
   "execution_count": 5,
   "metadata": {},
   "outputs": [
    {
     "data": {
      "text/plain": [
       "(array([-0.62503, -2.69993, -0.90333,  0.66547,  1.29807,  0.66547,\n",
       "         1.24747,  1.72827,  1.65237,  3.01877,  2.25957,  2.48737,\n",
       "         2.61387,  1.42457,  0.21007, -0.67563, -2.16853, -2.69993,\n",
       "        -4.24343, -3.02883, -1.86483, -0.97923, -0.29603, -1.81423,\n",
       "         0.00757,  1.12097,  1.12097,  2.05717,  2.51267,  0.99447,\n",
       "        -0.65033, -0.27073,  0.38717,  0.86787,  2.00657,  2.56327,\n",
       "         3.17057,  3.37297,  3.60067,  2.71507,  1.85477,  0.36187,\n",
       "        -0.22013,  1.50047,  2.53797,  2.89217,  3.77787,  2.71507,\n",
       "         1.44987,  0.89317, -2.42153, -3.20593, -3.45903, -0.82743,\n",
       "        -1.71303,  0.33657, -1.02983, -1.94083, -1.02983, -0.04303,\n",
       "        -0.24543,  0.81727,  0.61487,  1.55107,  0.58957,  1.47517,\n",
       "         2.05717,  2.05717,  3.44887,  2.61387,  2.61387, -0.04303,\n",
       "        -0.92863, -1.66243, -2.77583, -3.35783, -4.24343, -4.24343,\n",
       "        -3.18063, -3.73733, -2.72523, -2.26973, -1.13103, -0.47313,\n",
       "         0.03287,  1.07037,  0.31127,  0.84257, -1.05513, -2.75053,\n",
       "        -3.81323, -3.40843, -2.69993, -1.96613, -0.47313,  0.84257,\n",
       "        -0.47313,  2.43677, -0.49853, -0.49853]),\n",
       " array([-2.217969, -3.322869, -2.967669, -2.395569, -1.507669, -1.626069,\n",
       "        -1.053869, -0.422569, -1.191969, -0.126569, -0.974969, -0.264669,\n",
       "         0.859831,  0.090431, -0.876369, -1.843069, -2.809869, -3.599069,\n",
       "        -3.697669, -3.125569, -3.480669, -3.303069, -2.987369, -2.079869,\n",
       "        -1.310369, -0.797369, -0.481769, -3.322869, -2.454669, -3.086069,\n",
       "        -3.460969, -2.257369, -1.783869, -0.935569, -0.106869,  0.445531,\n",
       "         0.840131,  0.248231,  0.544231, -1.053869, -1.626069, -1.961469,\n",
       "        -2.178469, -1.034169, -0.323869,  0.919031,  1.688531,  0.386331,\n",
       "         0.366631, -0.106869, -0.284469, -1.211769, -1.882569, -0.442269,\n",
       "        -1.113069,  0.406131, -0.027969, -0.442269,  0.524431,  1.215031,\n",
       "         0.702031,  1.589831,  1.136131,  1.905531,  1.787131,  2.280431,\n",
       "         2.655231,  1.964731,  2.753931,  2.319831,  2.911731,  2.734231,\n",
       "         1.629331,  0.938831,  0.149631, -0.679069, -1.428769,  0.919031,\n",
       "         1.471531,  0.090431,  1.984431,  1.215031,  2.300131,  2.359331,\n",
       "         3.286631,  2.615831,  2.181731,  3.641731,  2.675031,  2.339631,\n",
       "         1.668831,  0.583631,  0.978231,  0.031231,  0.938831,  2.497431,\n",
       "         1.392531,  3.503631,  3.700931,  3.300931]))"
      ]
     },
     "execution_count": 5,
     "metadata": {},
     "output_type": "execute_result"
    }
   ],
   "source": [
    "#zero mean \n",
    "x1=x1-mean1\n",
    "x2=x2-mean2\n",
    "x1,x2"
   ]
  },
  {
   "cell_type": "code",
   "execution_count": 6,
   "metadata": {},
   "outputs": [
    {
     "data": {
      "text/plain": [
       "(438.24007921000003, 84.19793962299998, 84.19793962299998, 382.2067278739)"
      ]
     },
     "execution_count": 6,
     "metadata": {},
     "output_type": "execute_result"
    }
   ],
   "source": [
    "#covariance matrix computation\n",
    "cov1=np.dot(x1,x1.T)\n",
    "cov2=np.dot(x1,x2.T)\n",
    "cov3=np.dot(x2,x1.T)\n",
    "cov4=np.dot(x2,x2.T)\n",
    "cov1,cov2,cov3,cov4"
   ]
  },
  {
   "cell_type": "code",
   "execution_count": 7,
   "metadata": {},
   "outputs": [
    {
     "data": {
      "text/plain": [
       "array([[4.42666747, 0.85048424],\n",
       "       [0.85048424, 3.86067402]])"
      ]
     },
     "execution_count": 7,
     "metadata": {},
     "output_type": "execute_result"
    }
   ],
   "source": [
    "sigma=(1/(m-1))*np.array([[cov1,cov2],[cov3,cov4]])\n",
    "sigma"
   ]
  },
  {
   "cell_type": "code",
   "execution_count": 8,
   "metadata": {},
   "outputs": [
    {
     "data": {
      "text/plain": [
       "(array([5.04000248, 3.247339  ]),\n",
       " array([[ 0.81108805, -0.58492407],\n",
       "        [ 0.58492407,  0.81108805]]))"
      ]
     },
     "execution_count": 8,
     "metadata": {},
     "output_type": "execute_result"
    }
   ],
   "source": [
    "#eigen values and eigen vectors\n",
    "e_values,U=np.linalg.eig(sigma)\n",
    "e_values,U"
   ]
  },
  {
   "cell_type": "code",
   "execution_count": 9,
   "metadata": {},
   "outputs": [
    {
     "data": {
      "text/plain": [
       "(2, 2)"
      ]
     },
     "execution_count": 9,
     "metadata": {},
     "output_type": "execute_result"
    }
   ],
   "source": [
    "U.shape"
   ]
  },
  {
   "cell_type": "code",
   "execution_count": 10,
   "metadata": {},
   "outputs": [
    {
     "data": {
      "text/plain": [
       "(array([[ 0.81108805],\n",
       "        [-0.58492407]]),\n",
       " (2, 1))"
      ]
     },
     "execution_count": 10,
     "metadata": {},
     "output_type": "execute_result"
    }
   ],
   "source": [
    "U_reduce=U[0].reshape(2,1)\n",
    "U_reduce,U_reduce.shape"
   ]
  },
  {
   "cell_type": "code",
   "execution_count": 11,
   "metadata": {},
   "outputs": [],
   "source": [
    "z=[]\n",
    "for i in range(len(x1)):\n",
    "    temp=np.array([x1[i],x2[i]]).reshape(2,1)\n",
    "    z.append(U_reduce.T.dot(temp))"
   ]
  },
  {
   "cell_type": "code",
   "execution_count": 12,
   "metadata": {},
   "outputs": [
    {
     "data": {
      "text/plain": [
       "((100, 1),\n",
       " array([[ 0.79038909],\n",
       "        [-0.2462549 ],\n",
       "        [ 1.00318086],\n",
       "        [ 1.94098074],\n",
       "        [ 1.93472096],\n",
       "        [ 1.49088167],\n",
       "        [ 1.62824136],\n",
       "        [ 1.64894993],\n",
       "        [ 2.03742893],\n",
       "        [ 2.52252154],\n",
       "        [ 2.40299307],\n",
       "        [ 2.17228736],\n",
       "        [ 1.61714288],\n",
       "        [ 1.10255644],\n",
       "        [ 0.68299459],\n",
       "        [ 0.53006   ],\n",
       "        [-0.11530876],\n",
       "        [-0.08469888],\n",
       "        [-1.27893977],\n",
       "        [-0.62842729],\n",
       "        [ 0.52338575],\n",
       "        [ 1.13780281],\n",
       "        [ 1.50727764],\n",
       "        [-0.25493484],\n",
       "        [ 0.77260631],\n",
       "        [ 1.3756057 ],\n",
       "        [ 1.19100366],\n",
       "        [ 3.61217208],\n",
       "        [ 3.4737916 ],\n",
       "        [ 2.61171878],\n",
       "        [ 1.49692918],\n",
       "        [ 1.1008036 ],\n",
       "        [ 1.35745688],\n",
       "        [ 1.25115582],\n",
       "        [ 1.69001521],\n",
       "        [ 1.81843587],\n",
       "        [ 2.08019861],\n",
       "        [ 2.59057939],\n",
       "        [ 2.60212661],\n",
       "        [ 2.81859419],\n",
       "        [ 2.45550869],\n",
       "        [ 1.44081887],\n",
       "        [ 1.09569414],\n",
       "        [ 1.82192363],\n",
       "        [ 2.24795592],\n",
       "        [ 1.80824118],\n",
       "        [ 2.0765228 ],\n",
       "        [ 1.97618654],\n",
       "        [ 0.96152094],\n",
       "        [ 0.78694977],\n",
       "        [-1.79768129],\n",
       "        [-1.89149867],\n",
       "        [-1.70441799],\n",
       "        [-0.4124248 ],\n",
       "        [-0.73835732],\n",
       "        [ 0.03543211],\n",
       "        [-0.81892307],\n",
       "        [-1.31549024],\n",
       "        [-1.14203513],\n",
       "        [-0.745602  ],\n",
       "        [-0.60970017],\n",
       "        [-0.26705249],\n",
       "        [-0.16583666],\n",
       "        [ 0.1434634 ],\n",
       "        [-0.56714276],\n",
       "        [-0.13738622],\n",
       "        [ 0.11543748],\n",
       "        [ 0.51932756],\n",
       "        [ 1.18649672],\n",
       "        [ 0.76315374],\n",
       "        [ 0.41693718],\n",
       "        [-1.63421865],\n",
       "        [-1.70623562],\n",
       "        [-1.89752196],\n",
       "        [-2.33896533],\n",
       "        [-2.326292  ],\n",
       "        [-2.606074  ],\n",
       "        [-3.97935873],\n",
       "        [-3.4405049 ],\n",
       "        [-3.08419898],\n",
       "        [-3.37114296],\n",
       "        [-2.55165177],\n",
       "        [-2.26276691],\n",
       "        [-1.76377958],\n",
       "        [-1.89576912],\n",
       "        [-0.6618982 ],\n",
       "        [-1.0236796 ],\n",
       "        [-1.44673766],\n",
       "        [-2.42049336],\n",
       "        [-3.59942851],\n",
       "        [-4.06900472],\n",
       "        [-3.10591668],\n",
       "        [-2.76207183],\n",
       "        [-1.61297232],\n",
       "        [-0.93289494],\n",
       "        [-0.77740905],\n",
       "        [-1.19827499],\n",
       "        [-0.07292307],\n",
       "        [-2.56911536],\n",
       "        [-2.33514573]]))"
      ]
     },
     "execution_count": 12,
     "metadata": {},
     "output_type": "execute_result"
    }
   ],
   "source": [
    "new_x=np.array(z).reshape(100,1)\n",
    "new_x.shape,new_x"
   ]
  },
  {
   "cell_type": "code",
   "execution_count": 13,
   "metadata": {},
   "outputs": [
    {
     "data": {
      "text/html": [
       "<div>\n",
       "<style scoped>\n",
       "    .dataframe tbody tr th:only-of-type {\n",
       "        vertical-align: middle;\n",
       "    }\n",
       "\n",
       "    .dataframe tbody tr th {\n",
       "        vertical-align: top;\n",
       "    }\n",
       "\n",
       "    .dataframe thead th {\n",
       "        text-align: right;\n",
       "    }\n",
       "</style>\n",
       "<table border=\"1\" class=\"dataframe\">\n",
       "  <thead>\n",
       "    <tr style=\"text-align: right;\">\n",
       "      <th></th>\n",
       "      <th>X</th>\n",
       "      <th>y</th>\n",
       "    </tr>\n",
       "  </thead>\n",
       "  <tbody>\n",
       "    <tr>\n",
       "      <th>0</th>\n",
       "      <td>0.790389</td>\n",
       "      <td>1.0</td>\n",
       "    </tr>\n",
       "    <tr>\n",
       "      <th>1</th>\n",
       "      <td>-0.246255</td>\n",
       "      <td>1.0</td>\n",
       "    </tr>\n",
       "    <tr>\n",
       "      <th>2</th>\n",
       "      <td>1.003181</td>\n",
       "      <td>1.0</td>\n",
       "    </tr>\n",
       "    <tr>\n",
       "      <th>3</th>\n",
       "      <td>1.940981</td>\n",
       "      <td>1.0</td>\n",
       "    </tr>\n",
       "    <tr>\n",
       "      <th>4</th>\n",
       "      <td>1.934721</td>\n",
       "      <td>1.0</td>\n",
       "    </tr>\n",
       "    <tr>\n",
       "      <th>...</th>\n",
       "      <td>...</td>\n",
       "      <td>...</td>\n",
       "    </tr>\n",
       "    <tr>\n",
       "      <th>95</th>\n",
       "      <td>-0.777409</td>\n",
       "      <td>0.0</td>\n",
       "    </tr>\n",
       "    <tr>\n",
       "      <th>96</th>\n",
       "      <td>-1.198275</td>\n",
       "      <td>0.0</td>\n",
       "    </tr>\n",
       "    <tr>\n",
       "      <th>97</th>\n",
       "      <td>-0.072923</td>\n",
       "      <td>0.0</td>\n",
       "    </tr>\n",
       "    <tr>\n",
       "      <th>98</th>\n",
       "      <td>-2.569115</td>\n",
       "      <td>0.0</td>\n",
       "    </tr>\n",
       "    <tr>\n",
       "      <th>99</th>\n",
       "      <td>-2.335146</td>\n",
       "      <td>0.0</td>\n",
       "    </tr>\n",
       "  </tbody>\n",
       "</table>\n",
       "<p>100 rows × 2 columns</p>\n",
       "</div>"
      ],
      "text/plain": [
       "           X    y\n",
       "0   0.790389  1.0\n",
       "1  -0.246255  1.0\n",
       "2   1.003181  1.0\n",
       "3   1.940981  1.0\n",
       "4   1.934721  1.0\n",
       "..       ...  ...\n",
       "95 -0.777409  0.0\n",
       "96 -1.198275  0.0\n",
       "97 -0.072923  0.0\n",
       "98 -2.569115  0.0\n",
       "99 -2.335146  0.0\n",
       "\n",
       "[100 rows x 2 columns]"
      ]
     },
     "execution_count": 13,
     "metadata": {},
     "output_type": "execute_result"
    }
   ],
   "source": [
    "df1 = pd.DataFrame(new_x, columns=['X'])\n",
    "df1['y']=y\n",
    "df1"
   ]
  },
  {
   "cell_type": "code",
   "execution_count": 14,
   "metadata": {},
   "outputs": [
    {
     "data": {
      "text/plain": [
       "(100, 2)"
      ]
     },
     "execution_count": 14,
     "metadata": {},
     "output_type": "execute_result"
    }
   ],
   "source": [
    "#Decompression\n",
    "x_approx=U_reduce.dot(new_x.T)\n",
    "x_approx.T.shape"
   ]
  },
  {
   "cell_type": "code",
   "execution_count": 15,
   "metadata": {},
   "outputs": [
    {
     "data": {
      "text/plain": [
       "array([ 0.64107515, -0.19973441,  0.81366801,  1.57430629,  1.56922906,\n",
       "        1.20923631,  1.32064712,  1.33744359,  1.65253426,  2.04598709,\n",
       "        1.94903897,  1.76191633,  1.31164527,  0.89427036,  0.55396875,\n",
       "        0.42992533, -0.09352556, -0.06869825, -1.03733277, -0.50970986,\n",
       "        0.42451193,  0.92285827,  1.22253489, -0.2067746 ,  0.62665175,\n",
       "        1.11573735,  0.96600884,  2.92978962,  2.81755087,  2.1183339 ,\n",
       "        1.21414138,  0.89284865,  1.10101706,  1.01479754,  1.37075114,\n",
       "        1.47491161,  1.68722424,  2.10118799,  2.11055381,  2.28612807,\n",
       "        1.99163376,  1.16863097,  0.88870443,  1.47774049,  1.82329019,\n",
       "        1.46664282,  1.68424283,  1.60286129,  0.77987815,  0.63828556,\n",
       "       -1.45807782, -1.53417197, -1.38243307, -0.33451283, -0.5988728 ,\n",
       "        0.02873856, -0.66421872, -1.06697842, -0.92629105, -0.60474887,\n",
       "       -0.49452053, -0.21660308, -0.13450813,  0.11636145, -0.46000271,\n",
       "       -0.11143232,  0.09362996,  0.42122038,  0.96235332,  0.61898488,\n",
       "        0.33817277, -1.32549522, -1.38390733, -1.5390574 , -1.89710683,\n",
       "       -1.88682765, -2.11375549, -3.22761033, -2.79055242, -2.50155695,\n",
       "       -2.73429378, -2.06961427, -1.83530321, -1.43058055, -1.53763569,\n",
       "       -0.53685772, -0.83029429, -1.17343163, -1.96323325, -2.91945347,\n",
       "       -3.30032112, -2.51917191, -2.24028346, -1.30826258, -0.75665994,\n",
       "       -0.63054719, -0.97190653, -0.05914703, -2.08377877, -1.8940088 ])"
      ]
     },
     "execution_count": 15,
     "metadata": {},
     "output_type": "execute_result"
    }
   ],
   "source": [
    "x_approx[0]"
   ]
  },
  {
   "cell_type": "code",
   "execution_count": 16,
   "metadata": {},
   "outputs": [],
   "source": [
    "#Average Squared Projection Error\n",
    "sum=0\n",
    "for i in range(len(x_approx)):\n",
    "    sum+=(x_approx[0][i]-x1[i])**2\n",
    "    sum+=(x_approx[1][i]-x2[i])**2\n",
    "error=sum/m"
   ]
  },
  {
   "cell_type": "code",
   "execution_count": 17,
   "metadata": {},
   "outputs": [
    {
     "name": "stdout",
     "output_type": "stream",
     "text": [
      "AVERAGE SQUARED PROJECTION ERROR : 0.22955772988085865\n"
     ]
    }
   ],
   "source": [
    "print(\"AVERAGE SQUARED PROJECTION ERROR :\",error)"
   ]
  },
  {
   "cell_type": "code",
   "execution_count": null,
   "metadata": {},
   "outputs": [],
   "source": []
  }
 ],
 "metadata": {
  "kernelspec": {
   "display_name": "Python 3",
   "language": "python",
   "name": "python3"
  },
  "language_info": {
   "codemirror_mode": {
    "name": "ipython",
    "version": 3
   },
   "file_extension": ".py",
   "mimetype": "text/x-python",
   "name": "python",
   "nbconvert_exporter": "python",
   "pygments_lexer": "ipython3",
   "version": "3.8.5"
  }
 },
 "nbformat": 4,
 "nbformat_minor": 4
}
